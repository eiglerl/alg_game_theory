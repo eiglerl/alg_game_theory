{
 "cells": [
  {
   "cell_type": "code",
   "execution_count": 2,
   "metadata": {},
   "outputs": [],
   "source": [
    "import week1\n",
    "import numpy as np\n"
   ]
  },
  {
   "cell_type": "code",
   "execution_count": 11,
   "metadata": {},
   "outputs": [
    {
     "ename": "IndexError",
     "evalue": "tuple index out of range",
     "output_type": "error",
     "traceback": [
      "\u001b[1;31m---------------------------------------------------------------------------\u001b[0m",
      "\u001b[1;31mIndexError\u001b[0m                                Traceback (most recent call last)",
      "\u001b[1;32mc:\\Users\\eigle\\Desktop\\skola\\alg_modern_game_theory\\alg_game_theory\\libs\\week3.ipynb Cell 2\u001b[0m line \u001b[0;36m6\n\u001b[0;32m     <a href='vscode-notebook-cell:/c%3A/Users/eigle/Desktop/skola/alg_modern_game_theory/alg_game_theory/libs/week3.ipynb#W1sZmlsZQ%3D%3D?line=53'>54</a>\u001b[0m matrix1 \u001b[39m=\u001b[39m np\u001b[39m.\u001b[39marray([[\u001b[39m0\u001b[39m, \u001b[39m1\u001b[39m, \u001b[39m-\u001b[39m\u001b[39m1\u001b[39m],\n\u001b[0;32m     <a href='vscode-notebook-cell:/c%3A/Users/eigle/Desktop/skola/alg_modern_game_theory/alg_game_theory/libs/week3.ipynb#W1sZmlsZQ%3D%3D?line=54'>55</a>\u001b[0m                     [\u001b[39m-\u001b[39m\u001b[39m1\u001b[39m, \u001b[39m0\u001b[39m, \u001b[39m1\u001b[39m],\n\u001b[0;32m     <a href='vscode-notebook-cell:/c%3A/Users/eigle/Desktop/skola/alg_modern_game_theory/alg_game_theory/libs/week3.ipynb#W1sZmlsZQ%3D%3D?line=55'>56</a>\u001b[0m                     [\u001b[39m1\u001b[39m, \u001b[39m-\u001b[39m\u001b[39m1\u001b[39m, \u001b[39m0\u001b[39m]])\n\u001b[0;32m     <a href='vscode-notebook-cell:/c%3A/Users/eigle/Desktop/skola/alg_modern_game_theory/alg_game_theory/libs/week3.ipynb#W1sZmlsZQ%3D%3D?line=56'>57</a>\u001b[0m matrix2 \u001b[39m=\u001b[39m np\u001b[39m.\u001b[39marray([[\u001b[39m0\u001b[39m, \u001b[39m-\u001b[39m\u001b[39m1\u001b[39m, \u001b[39m1\u001b[39m],\n\u001b[0;32m     <a href='vscode-notebook-cell:/c%3A/Users/eigle/Desktop/skola/alg_modern_game_theory/alg_game_theory/libs/week3.ipynb#W1sZmlsZQ%3D%3D?line=57'>58</a>\u001b[0m                     [\u001b[39m1\u001b[39m, \u001b[39m0\u001b[39m, \u001b[39m-\u001b[39m\u001b[39m1\u001b[39m],\n\u001b[0;32m     <a href='vscode-notebook-cell:/c%3A/Users/eigle/Desktop/skola/alg_modern_game_theory/alg_game_theory/libs/week3.ipynb#W1sZmlsZQ%3D%3D?line=58'>59</a>\u001b[0m                     [\u001b[39m-\u001b[39m\u001b[39m1\u001b[39m, \u001b[39m1\u001b[39m, \u001b[39m0\u001b[39m]])\n\u001b[1;32m---> <a href='vscode-notebook-cell:/c%3A/Users/eigle/Desktop/skola/alg_modern_game_theory/alg_game_theory/libs/week3.ipynb#W1sZmlsZQ%3D%3D?line=60'>61</a>\u001b[0m game(matrix1, matrix2, \u001b[39m10\u001b[39;49m, best_response_last, best_response_last)\n",
      "\u001b[1;32mc:\\Users\\eigle\\Desktop\\skola\\alg_modern_game_theory\\alg_game_theory\\libs\\week3.ipynb Cell 2\u001b[0m line \u001b[0;36m3\n\u001b[0;32m     <a href='vscode-notebook-cell:/c%3A/Users/eigle/Desktop/skola/alg_modern_game_theory/alg_game_theory/libs/week3.ipynb#W1sZmlsZQ%3D%3D?line=31'>32</a>\u001b[0m utility2 \u001b[39m=\u001b[39m []\n\u001b[0;32m     <a href='vscode-notebook-cell:/c%3A/Users/eigle/Desktop/skola/alg_modern_game_theory/alg_game_theory/libs/week3.ipynb#W1sZmlsZQ%3D%3D?line=32'>33</a>\u001b[0m \u001b[39mfor\u001b[39;00m _ \u001b[39min\u001b[39;00m \u001b[39mrange\u001b[39m(turns):\n\u001b[1;32m---> <a href='vscode-notebook-cell:/c%3A/Users/eigle/Desktop/skola/alg_modern_game_theory/alg_game_theory/libs/week3.ipynb#W1sZmlsZQ%3D%3D?line=33'>34</a>\u001b[0m     strat1 \u001b[39m=\u001b[39m function1(matrix1, actions2, m)\n\u001b[0;32m     <a href='vscode-notebook-cell:/c%3A/Users/eigle/Desktop/skola/alg_modern_game_theory/alg_game_theory/libs/week3.ipynb#W1sZmlsZQ%3D%3D?line=34'>35</a>\u001b[0m     strat2 \u001b[39m=\u001b[39m function2(matrix2, actions1, n)\n\u001b[0;32m     <a href='vscode-notebook-cell:/c%3A/Users/eigle/Desktop/skola/alg_modern_game_theory/alg_game_theory/libs/week3.ipynb#W1sZmlsZQ%3D%3D?line=36'>37</a>\u001b[0m     response1 \u001b[39m=\u001b[39m np\u001b[39m.\u001b[39margmax(strat1)\n",
      "\u001b[1;32mc:\\Users\\eigle\\Desktop\\skola\\alg_modern_game_theory\\alg_game_theory\\libs\\week3.ipynb Cell 2\u001b[0m line \u001b[0;36m2\n\u001b[0;32m     <a href='vscode-notebook-cell:/c%3A/Users/eigle/Desktop/skola/alg_modern_game_theory/alg_game_theory/libs/week3.ipynb#W1sZmlsZQ%3D%3D?line=20'>21</a>\u001b[0m strat \u001b[39m=\u001b[39m np\u001b[39m.\u001b[39mzeros(n)\n\u001b[0;32m     <a href='vscode-notebook-cell:/c%3A/Users/eigle/Desktop/skola/alg_modern_game_theory/alg_game_theory/libs/week3.ipynb#W1sZmlsZQ%3D%3D?line=21'>22</a>\u001b[0m strat[a] \u001b[39m=\u001b[39m \u001b[39m1\u001b[39m\n\u001b[1;32m---> <a href='vscode-notebook-cell:/c%3A/Users/eigle/Desktop/skola/alg_modern_game_theory/alg_game_theory/libs/week3.ipynb#W1sZmlsZQ%3D%3D?line=22'>23</a>\u001b[0m \u001b[39mreturn\u001b[39;00m week1\u001b[39m.\u001b[39;49mbest_response(matrix, strat)\n",
      "File \u001b[1;32mc:\\Users\\eigle\\Desktop\\skola\\alg_modern_game_theory\\alg_game_theory\\libs\\week1.py:15\u001b[0m, in \u001b[0;36mbest_response\u001b[1;34m(matrix, strat, for_row)\u001b[0m\n\u001b[0;32m     13\u001b[0m \u001b[39mdef\u001b[39;00m \u001b[39mbest_response\u001b[39m(matrix, strat, for_row\u001b[39m=\u001b[39m\u001b[39mTrue\u001b[39;00m):\n\u001b[0;32m     14\u001b[0m     expected_payoffs \u001b[39m=\u001b[39m (strat \u001b[39m@\u001b[39m matrix) \u001b[39mif\u001b[39;00m for_row \u001b[39melse\u001b[39;00m (matrix \u001b[39m@\u001b[39m strat)\n\u001b[1;32m---> 15\u001b[0m     \u001b[39mlen\u001b[39m \u001b[39m=\u001b[39m expected_payoffs\u001b[39m.\u001b[39;49mshape[\u001b[39m1\u001b[39;49m] \u001b[39mif\u001b[39;00m for_row \u001b[39melse\u001b[39;00m expected_payoffs\u001b[39m.\u001b[39mshape[\u001b[39m0\u001b[39m]\n\u001b[0;32m     16\u001b[0m     max_payoff \u001b[39m=\u001b[39m np\u001b[39m.\u001b[39margmax(expected_payoffs)\n\u001b[0;32m     17\u001b[0m     best_response \u001b[39m=\u001b[39m create_pure_strategy(\u001b[39mlen\u001b[39m, max_payoff)\n",
      "\u001b[1;31mIndexError\u001b[0m: tuple index out of range"
     ]
    }
   ],
   "source": [
    "def best_response_from_avg(matrix, actions, n):#counts, n):\n",
    "    # 2 1 1 0\n",
    "    # a = actions[-1]\n",
    "    # counts[a] += 1\n",
    "    # strat = counts / sum(counts)\n",
    "    if len(actions) == 0:\n",
    "        a = np.random.randint(0,n)\n",
    "        strat = np.zeros(n)\n",
    "        strat[a] = 1\n",
    "        return strat\n",
    "    \n",
    "    counts = np.zeros(n)\n",
    "    for i in range(n):\n",
    "        counts[i] = actions.count(i)\n",
    "    strat = counts / sum(counts)\n",
    "    return week1.best_response(matrix, strat, for_row=True)\n",
    "\n",
    "\n",
    "def best_response_last(matrix, actions, n):\n",
    "    a = actions[-1] if len(actions) > 0 else np.random.randint(0,n)\n",
    "    strat = np.zeros(n)\n",
    "    strat[a] = 1\n",
    "    return week1.best_response(matrix, strat)\n",
    "\n",
    "def game(matrix1, matrix2, turns, function1, function2):\n",
    "    n, m = matrix1.shape\n",
    "\n",
    "    actions1 = []\n",
    "    actions2 = []\n",
    "\n",
    "    utility1 = []\n",
    "    utility2 = []\n",
    "    for _ in range(turns):\n",
    "        strat1 = function1(matrix1, actions2, m)\n",
    "        strat2 = function2(matrix2, actions1, n)\n",
    "\n",
    "        response1 = np.argmax(strat1)\n",
    "        response2 = np.argmax(strat2)\n",
    "\n",
    "        actions1.append(response1)\n",
    "        actions2.append(response2)\n",
    "\n",
    "        u1 = matrix1[response1, response2]\n",
    "        u2 = matrix2[response1, response2]\n",
    "\n",
    "        utility1.append(u1)\n",
    "        print(u1)\n",
    "        utility2.append(u2)\n",
    "    \n",
    "\n",
    "\n",
    "\n",
    "# best_response_from_avg([2, 4, 0, 0, 0])\n",
    "matrix1 = np.array([[0, 1, -1],\n",
    "                    [-1, 0, 1],\n",
    "                    [1, -1, 0]])\n",
    "matrix2 = np.array([[0, -1, 1],\n",
    "                    [1, 0, -1],\n",
    "                    [-1, 1, 0]])\n",
    "\n",
    "game(matrix1, matrix2, 10, best_response_last, best_response_last)\n",
    "\n"
   ]
  }
 ],
 "metadata": {
  "kernelspec": {
   "display_name": "venv_game_theory",
   "language": "python",
   "name": "python3"
  },
  "language_info": {
   "codemirror_mode": {
    "name": "ipython",
    "version": 3
   },
   "file_extension": ".py",
   "mimetype": "text/x-python",
   "name": "python",
   "nbconvert_exporter": "python",
   "pygments_lexer": "ipython3",
   "version": "3.10.10"
  }
 },
 "nbformat": 4,
 "nbformat_minor": 2
}
